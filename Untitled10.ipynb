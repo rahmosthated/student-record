{
  "nbformat": 4,
  "nbformat_minor": 0,
  "metadata": {
    "colab": {
      "provenance": [],
      "authorship_tag": "ABX9TyNwSHMI/8EG1w/PlPBRQ0WI",
      "include_colab_link": true
    },
    "kernelspec": {
      "name": "python3",
      "display_name": "Python 3"
    },
    "language_info": {
      "name": "python"
    }
  },
  "cells": [
    {
      "cell_type": "markdown",
      "metadata": {
        "id": "view-in-github",
        "colab_type": "text"
      },
      "source": [
        "<a href=\"https://colab.research.google.com/github/rahmosthated/student-record/blob/main/Untitled10.ipynb\" target=\"_parent\"><img src=\"https://colab.research.google.com/assets/colab-badge.svg\" alt=\"Open In Colab\"/></a>"
      ]
    },
    {
      "cell_type": "code",
      "execution_count": null,
      "metadata": {
        "id": "FM8IPd9W3ybE"
      },
      "outputs": [],
      "source": [
        "# Step 1: Create a list of students (each student is a dictionary)\n",
        "students = [\n",
        "    {\"Name\": \"Alice\", \"Age\": 20, \"Major\": \"Computer Science\", \"GPA\": 3.5},\n",
        "    {\"Name\": \"Bob\", \"Age\": 21, \"Major\": \"Mathematics\", \"GPA\": 3.7}\n",
        "]\n",
        "\n",
        "# Step 2: Print the initial students list\n",
        "print(\"Initial Students List:\")\n",
        "for student in students:\n",
        "    print(student)\n",
        "\n",
        "# Step 3: Change GPA of the first student (Alice) to 3.9\n",
        "print(\"\\nBefore GPA Change:\")\n",
        "for student in students:\n",
        "    print(student)\n",
        "\n",
        "students[0][\"GPA\"] = 3.9  # Update Alice's GPA\n",
        "\n",
        "print(\"\\nAfter GPA Change:\")\n",
        "for student in students:\n",
        "    print(student)\n",
        "\n",
        "# Step 4: Add a new student named Charlie\n",
        "new_student = {\"Name\": \"Charlie\", \"Age\": 22, \"Major\": \"Physics\", \"GPA\": 3.6}\n",
        "students.append(new_student)  # Add Charlie to the list\n",
        "\n",
        "# Step 5: Print the final list of students\n",
        "print(\"\\nFinal Students List:\")\n",
        "for student in students:\n",
        "    print(student)\n"
      ]
    }
  ]
}